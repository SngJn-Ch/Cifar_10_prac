{
  "nbformat": 4,
  "nbformat_minor": 0,
  "metadata": {
    "colab": {
      "name": "CIFAR_CNN_improved.ipynb",
      "provenance": [],
      "collapsed_sections": []
    },
    "kernelspec": {
      "name": "python3",
      "display_name": "Python 3"
    },
    "language_info": {
      "name": "python"
    },
    "accelerator": "GPU",
    "gpuClass": "standard"
  },
  "cells": [
    {
      "cell_type": "code",
      "source": [
        "# Check libcudnn8 version\n",
        "!apt-cache policy libcudnn8\n",
        "\n",
        "# Install latest version\n",
        "!apt install --allow-change-held-packages libcudnn8=8.4.1.50-1+cuda11.6\n",
        "\n",
        "# Export env variables\n",
        "!export PATH=/usr/local/cuda-11.4/bin${PATH:+:${PATH}}\n",
        "!export LD_LIBRARY_PATH=/usr/local/cuda-11.4/lib64:$LD_LIBRARY_PATH\n",
        "!export LD_LIBRARY_PATH=/usr/local/cuda-11.4/include:$LD_LIBRARY_PATH\n",
        "!export LD_LIBRARY_PATH=$LD_LIBRARY_PATH:/usr/local/cuda/extras/CUPTI/lib64\n",
        "\n",
        "# Install tensorflow\n",
        "!pip install tflite-model-maker==0.4.0\n",
        "!pip uninstall -y tensorflow && pip install -q tensorflow==2.9.1\n",
        "!pip install pycocotools==2.0.4\n",
        "!pip install opencv-python-headless==4.6.0.66"
      ],
      "metadata": {
        "id": "vDa84WUKaWDA"
      },
      "execution_count": null,
      "outputs": []
    },
    {
      "cell_type": "code",
      "execution_count": 2,
      "metadata": {
        "id": "UdFa9Mj-R2aQ"
      },
      "outputs": [],
      "source": [
        "import tensorflow as tf\n",
        "import numpy as np\n",
        "import matplotlib.pyplot as plt"
      ]
    },
    {
      "cell_type": "code",
      "source": [
        "from tensorflow.keras.layers import Conv2D, Flatten, Dense, Input, Dropout, GlobalAveragePooling2D, MaxPooling2D, BatchNormalization\n",
        "from tensorflow.keras.activations import relu, softmax\n",
        "from tensorflow.keras.models import Model\n",
        "from tensorflow.keras.optimizers import Adam, SGD"
      ],
      "metadata": {
        "id": "5U2fpunfMjMs"
      },
      "execution_count": 36,
      "outputs": []
    },
    {
      "cell_type": "code",
      "source": [
        "from tensorflow.keras.datasets import cifar10"
      ],
      "metadata": {
        "id": "jS9FDxM1M0jB"
      },
      "execution_count": 4,
      "outputs": []
    },
    {
      "cell_type": "code",
      "source": [
        "(x_train, y_train), (x_test, y_test) = cifar10.load_data()"
      ],
      "metadata": {
        "id": "fGqdcuM7M5gX",
        "colab": {
          "base_uri": "https://localhost:8080/"
        },
        "outputId": "a7723265-7759-4dc3-c28d-36308508d707"
      },
      "execution_count": 5,
      "outputs": [
        {
          "output_type": "stream",
          "name": "stdout",
          "text": [
            "Downloading data from https://www.cs.toronto.edu/~kriz/cifar-10-python.tar.gz\n",
            "170498071/170498071 [==============================] - 14s 0us/step\n"
          ]
        }
      ]
    },
    {
      "cell_type": "code",
      "source": [
        "x_train.shape"
      ],
      "metadata": {
        "colab": {
          "base_uri": "https://localhost:8080/"
        },
        "id": "7w1wZNDFM966",
        "outputId": "9b215160-7e0b-49d7-be8b-937250c51581"
      },
      "execution_count": 6,
      "outputs": [
        {
          "output_type": "execute_result",
          "data": {
            "text/plain": [
              "(50000, 32, 32, 3)"
            ]
          },
          "metadata": {},
          "execution_count": 6
        }
      ]
    },
    {
      "cell_type": "code",
      "source": [
        "x_train, x_test = x_train/255.0 , x_test / 255.0\n",
        "y_train, y_test = y_train.flatten(), y_test.flatten()\n",
        "\n",
        "print(\"x_train shape:\" , x_train.shape)\n",
        "print(\"y_train shape:\" , y_train.shape)\n"
      ],
      "metadata": {
        "colab": {
          "base_uri": "https://localhost:8080/"
        },
        "id": "bvJybAD5NKca",
        "outputId": "8cd3a7bd-3850-46c5-9693-8b431486d9c2"
      },
      "execution_count": 7,
      "outputs": [
        {
          "output_type": "stream",
          "name": "stdout",
          "text": [
            "x_train shape: (50000, 32, 32, 3)\n",
            "y_train shape: (50000,)\n"
          ]
        }
      ]
    },
    {
      "cell_type": "code",
      "source": [
        "print(x_train[0].shape)"
      ],
      "metadata": {
        "colab": {
          "base_uri": "https://localhost:8080/"
        },
        "id": "C5jQYjVdsxV0",
        "outputId": "914dbb9b-0fee-4a1b-9e39-ac9142a3fa28"
      },
      "execution_count": 8,
      "outputs": [
        {
          "output_type": "stream",
          "name": "stdout",
          "text": [
            "(32, 32, 3)\n"
          ]
        }
      ]
    },
    {
      "cell_type": "code",
      "source": [
        "# number of classes\n",
        "\n",
        "k = len(set(y_train))\n",
        "print(\"number of classes : \", k)\n",
        "\n"
      ],
      "metadata": {
        "colab": {
          "base_uri": "https://localhost:8080/"
        },
        "id": "mzqKiiWPNTQa",
        "outputId": "0d41022e-f498-4298-c66e-d51bfa300b23"
      },
      "execution_count": 9,
      "outputs": [
        {
          "output_type": "stream",
          "name": "stdout",
          "text": [
            "number of classes :  10\n"
          ]
        }
      ]
    },
    {
      "cell_type": "code",
      "source": [
        "i = Input(shape = x_train[0].shape)\n",
        "x = Conv2D(32, (3,3), activation=\"relu\", padding='same')(i)\n",
        "x = BatchNormalization()(x)\n",
        "x = Conv2D(32, (3,3), activation=\"relu\", padding='same')(x)\n",
        "x = BatchNormalization()(x)\n",
        "x = MaxPooling2D((2,2))(x) \n",
        "x = Dropout(0.2)(x)\n",
        "\n",
        "x = Conv2D(64, (3,3), activation=\"relu\", padding=\"same\")(x)\n",
        "x = BatchNormalization()(x)\n",
        "x = Conv2D(64, (3,3), activation=\"relu\", padding=\"same\")(x)\n",
        "x = BatchNormalization()(x)\n",
        "x = MaxPooling2D((2,2))(x) \n",
        "x = Dropout(0.3)(x)\n",
        "\n",
        "x = Conv2D(128, (3,3), activation=\"relu\", padding = \"same\")(x)\n",
        "x = BatchNormalization()(x)\n",
        "x = Conv2D(128, (3,3), activation=\"relu\", padding = \"same\")(x)\n",
        "x = BatchNormalization()(x)\n",
        "x = MaxPooling2D((2,2))(x) \n",
        "x = Dropout(0.4)(x)\n",
        "\n",
        "x = Conv2D(256, (3,3), activation=\"relu\", padding = \"same\")(x)\n",
        "x = BatchNormalization()(x)\n",
        "x = Conv2D(256, (3,3), activation=\"relu\", padding = \"same\")(x)\n",
        "x = BatchNormalization()(x)\n",
        "x = Dropout(0.5)(x)\n",
        "\n",
        "x = Flatten()(x)\n",
        "x = Dense(256, activation=\"relu\")(x)\n",
        "x = Dropout(0.5)(x)\n",
        "x = Dense(k, activation=\"softmax\")(x)\n",
        "\n",
        "model = Model(i,x)"
      ],
      "metadata": {
        "id": "bRPSkgRQNnZi"
      },
      "execution_count": 37,
      "outputs": []
    },
    {
      "cell_type": "code",
      "source": [
        "optimizer = Adam(learning_rate = 0.001)\n",
        "model.compile(optimizer = 'adam', loss = 'sparse_categorical_crossentropy', metrics= [\"accuracy\"])\n",
        "batch_size = 64\n",
        "data_generator = tf.keras.preprocessing.image.ImageDataGenerator(width_shift_range = 0.1, height_shift_range = 0.1, horizontal_flip = True)\n",
        "train_generator = data_generator.flow(x_train, y_train, batch_size)\n",
        "steps_per_epoch = x_train.shape[0] // batch_size\n",
        "r = model.fit(train_generator, validation_data =(x_test, y_test), steps_per_epoch = steps_per_epoch, epochs = 200)"
      ],
      "metadata": {
        "id": "ttft3QcGalcb",
        "colab": {
          "base_uri": "https://localhost:8080/"
        },
        "outputId": "7b698430-7945-4d0a-aebc-8d5064d95abe"
      },
      "execution_count": 39,
      "outputs": [
        {
          "output_type": "stream",
          "name": "stdout",
          "text": [
            "Epoch 1/200\n",
            "781/781 [==============================] - 34s 42ms/step - loss: 0.8638 - accuracy: 0.7163 - val_loss: 0.7876 - val_accuracy: 0.7431\n",
            "Epoch 2/200\n",
            "781/781 [==============================] - 31s 40ms/step - loss: 0.8009 - accuracy: 0.7354 - val_loss: 0.7024 - val_accuracy: 0.7730\n",
            "Epoch 3/200\n",
            "781/781 [==============================] - 31s 39ms/step - loss: 0.7539 - accuracy: 0.7505 - val_loss: 0.7198 - val_accuracy: 0.7617\n",
            "Epoch 4/200\n",
            "781/781 [==============================] - 30s 39ms/step - loss: 0.7100 - accuracy: 0.7672 - val_loss: 0.6756 - val_accuracy: 0.7764\n",
            "Epoch 5/200\n",
            "781/781 [==============================] - 30s 39ms/step - loss: 0.6815 - accuracy: 0.7739 - val_loss: 0.8321 - val_accuracy: 0.7382\n",
            "Epoch 6/200\n",
            "781/781 [==============================] - 31s 40ms/step - loss: 0.6533 - accuracy: 0.7819 - val_loss: 0.6148 - val_accuracy: 0.8008\n",
            "Epoch 7/200\n",
            "781/781 [==============================] - 31s 40ms/step - loss: 0.6270 - accuracy: 0.7928 - val_loss: 0.7340 - val_accuracy: 0.7687\n",
            "Epoch 8/200\n",
            "781/781 [==============================] - 30s 39ms/step - loss: 0.6068 - accuracy: 0.8000 - val_loss: 0.5472 - val_accuracy: 0.8202\n",
            "Epoch 9/200\n",
            "781/781 [==============================] - 31s 40ms/step - loss: 0.5882 - accuracy: 0.8050 - val_loss: 0.5698 - val_accuracy: 0.8135\n",
            "Epoch 10/200\n",
            "781/781 [==============================] - 31s 40ms/step - loss: 0.5667 - accuracy: 0.8129 - val_loss: 0.5169 - val_accuracy: 0.8298\n",
            "Epoch 11/200\n",
            "781/781 [==============================] - 31s 40ms/step - loss: 0.5475 - accuracy: 0.8187 - val_loss: 0.6139 - val_accuracy: 0.8022\n",
            "Epoch 12/200\n",
            "781/781 [==============================] - 30s 38ms/step - loss: 0.5366 - accuracy: 0.8220 - val_loss: 0.5450 - val_accuracy: 0.8180\n",
            "Epoch 13/200\n",
            "781/781 [==============================] - 31s 40ms/step - loss: 0.5205 - accuracy: 0.8266 - val_loss: 0.6148 - val_accuracy: 0.8041\n",
            "Epoch 14/200\n",
            "781/781 [==============================] - 31s 40ms/step - loss: 0.5134 - accuracy: 0.8287 - val_loss: 0.5064 - val_accuracy: 0.8299\n",
            "Epoch 15/200\n",
            "781/781 [==============================] - 31s 40ms/step - loss: 0.4965 - accuracy: 0.8345 - val_loss: 0.5617 - val_accuracy: 0.8118\n",
            "Epoch 16/200\n",
            "781/781 [==============================] - 30s 38ms/step - loss: 0.4921 - accuracy: 0.8349 - val_loss: 0.4490 - val_accuracy: 0.8488\n",
            "Epoch 17/200\n",
            "781/781 [==============================] - 31s 39ms/step - loss: 0.4813 - accuracy: 0.8385 - val_loss: 0.4593 - val_accuracy: 0.8457\n",
            "Epoch 18/200\n",
            "781/781 [==============================] - 31s 39ms/step - loss: 0.4778 - accuracy: 0.8414 - val_loss: 0.5312 - val_accuracy: 0.8260\n",
            "Epoch 19/200\n",
            "781/781 [==============================] - 31s 39ms/step - loss: 0.4610 - accuracy: 0.8465 - val_loss: 0.4907 - val_accuracy: 0.8407\n",
            "Epoch 20/200\n",
            "781/781 [==============================] - 30s 38ms/step - loss: 0.4571 - accuracy: 0.8474 - val_loss: 0.4869 - val_accuracy: 0.8437\n",
            "Epoch 21/200\n",
            "781/781 [==============================] - 31s 40ms/step - loss: 0.4504 - accuracy: 0.8480 - val_loss: 0.4881 - val_accuracy: 0.8412\n",
            "Epoch 22/200\n",
            "781/781 [==============================] - 31s 39ms/step - loss: 0.4372 - accuracy: 0.8533 - val_loss: 0.4705 - val_accuracy: 0.8424\n",
            "Epoch 23/200\n",
            "781/781 [==============================] - 30s 38ms/step - loss: 0.4325 - accuracy: 0.8545 - val_loss: 0.4490 - val_accuracy: 0.8515\n",
            "Epoch 24/200\n",
            "781/781 [==============================] - 30s 39ms/step - loss: 0.4316 - accuracy: 0.8555 - val_loss: 0.4392 - val_accuracy: 0.8592\n",
            "Epoch 25/200\n",
            "781/781 [==============================] - 30s 38ms/step - loss: 0.4228 - accuracy: 0.8587 - val_loss: 0.4099 - val_accuracy: 0.8636\n",
            "Epoch 26/200\n",
            "781/781 [==============================] - 31s 39ms/step - loss: 0.4087 - accuracy: 0.8627 - val_loss: 0.4148 - val_accuracy: 0.8620\n",
            "Epoch 27/200\n",
            "781/781 [==============================] - 30s 38ms/step - loss: 0.4056 - accuracy: 0.8627 - val_loss: 0.4339 - val_accuracy: 0.8570\n",
            "Epoch 28/200\n",
            "781/781 [==============================] - 30s 38ms/step - loss: 0.4046 - accuracy: 0.8643 - val_loss: 0.3911 - val_accuracy: 0.8693\n",
            "Epoch 29/200\n",
            "781/781 [==============================] - 31s 40ms/step - loss: 0.3978 - accuracy: 0.8665 - val_loss: 0.3843 - val_accuracy: 0.8699\n",
            "Epoch 30/200\n",
            "781/781 [==============================] - 31s 40ms/step - loss: 0.3954 - accuracy: 0.8658 - val_loss: 0.4547 - val_accuracy: 0.8510\n",
            "Epoch 31/200\n",
            "781/781 [==============================] - 30s 39ms/step - loss: 0.3850 - accuracy: 0.8698 - val_loss: 0.4071 - val_accuracy: 0.8742\n",
            "Epoch 32/200\n",
            "781/781 [==============================] - 30s 38ms/step - loss: 0.3822 - accuracy: 0.8717 - val_loss: 0.4355 - val_accuracy: 0.8585\n",
            "Epoch 33/200\n",
            "781/781 [==============================] - 31s 40ms/step - loss: 0.3799 - accuracy: 0.8714 - val_loss: 0.4190 - val_accuracy: 0.8599\n",
            "Epoch 34/200\n",
            "781/781 [==============================] - 31s 40ms/step - loss: 0.3802 - accuracy: 0.8711 - val_loss: 0.3719 - val_accuracy: 0.8775\n",
            "Epoch 35/200\n",
            "781/781 [==============================] - 31s 40ms/step - loss: 0.3755 - accuracy: 0.8743 - val_loss: 0.3810 - val_accuracy: 0.8741\n",
            "Epoch 36/200\n",
            "781/781 [==============================] - 30s 39ms/step - loss: 0.3668 - accuracy: 0.8758 - val_loss: 0.4099 - val_accuracy: 0.8691\n",
            "Epoch 37/200\n",
            "781/781 [==============================] - 31s 40ms/step - loss: 0.3699 - accuracy: 0.8761 - val_loss: 0.3714 - val_accuracy: 0.8769\n",
            "Epoch 38/200\n",
            "781/781 [==============================] - 32s 41ms/step - loss: 0.3611 - accuracy: 0.8787 - val_loss: 0.3791 - val_accuracy: 0.8766\n",
            "Epoch 39/200\n",
            "781/781 [==============================] - 32s 41ms/step - loss: 0.3565 - accuracy: 0.8794 - val_loss: 0.3824 - val_accuracy: 0.8781\n",
            "Epoch 40/200\n",
            "781/781 [==============================] - 32s 41ms/step - loss: 0.3594 - accuracy: 0.8774 - val_loss: 0.4049 - val_accuracy: 0.8724\n",
            "Epoch 41/200\n",
            "781/781 [==============================] - 30s 39ms/step - loss: 0.3494 - accuracy: 0.8826 - val_loss: 0.4280 - val_accuracy: 0.8716\n",
            "Epoch 42/200\n",
            "781/781 [==============================] - 31s 40ms/step - loss: 0.3497 - accuracy: 0.8815 - val_loss: 0.4406 - val_accuracy: 0.8537\n",
            "Epoch 43/200\n",
            "781/781 [==============================] - 31s 40ms/step - loss: 0.3491 - accuracy: 0.8838 - val_loss: 0.3767 - val_accuracy: 0.8786\n",
            "Epoch 44/200\n",
            "781/781 [==============================] - 30s 38ms/step - loss: 0.3445 - accuracy: 0.8835 - val_loss: 0.3599 - val_accuracy: 0.8860\n",
            "Epoch 45/200\n",
            "781/781 [==============================] - 30s 39ms/step - loss: 0.3431 - accuracy: 0.8843 - val_loss: 0.4125 - val_accuracy: 0.8688\n",
            "Epoch 46/200\n",
            "781/781 [==============================] - 30s 38ms/step - loss: 0.3360 - accuracy: 0.8863 - val_loss: 0.3579 - val_accuracy: 0.8857\n",
            "Epoch 47/200\n",
            "781/781 [==============================] - 31s 40ms/step - loss: 0.3377 - accuracy: 0.8853 - val_loss: 0.3708 - val_accuracy: 0.8807\n",
            "Epoch 48/200\n",
            "781/781 [==============================] - 31s 39ms/step - loss: 0.3345 - accuracy: 0.8873 - val_loss: 0.3751 - val_accuracy: 0.8841\n",
            "Epoch 49/200\n",
            "781/781 [==============================] - 31s 39ms/step - loss: 0.3245 - accuracy: 0.8900 - val_loss: 0.4167 - val_accuracy: 0.8680\n",
            "Epoch 50/200\n",
            "781/781 [==============================] - 31s 39ms/step - loss: 0.3341 - accuracy: 0.8872 - val_loss: 0.4180 - val_accuracy: 0.8709\n",
            "Epoch 51/200\n",
            "781/781 [==============================] - 30s 39ms/step - loss: 0.3200 - accuracy: 0.8894 - val_loss: 0.3938 - val_accuracy: 0.8800\n",
            "Epoch 52/200\n",
            "781/781 [==============================] - 31s 40ms/step - loss: 0.3263 - accuracy: 0.8900 - val_loss: 0.4095 - val_accuracy: 0.8698\n",
            "Epoch 53/200\n",
            "781/781 [==============================] - 31s 39ms/step - loss: 0.3199 - accuracy: 0.8904 - val_loss: 0.3931 - val_accuracy: 0.8737\n",
            "Epoch 54/200\n",
            "781/781 [==============================] - 30s 38ms/step - loss: 0.3176 - accuracy: 0.8920 - val_loss: 0.3585 - val_accuracy: 0.8871\n",
            "Epoch 55/200\n",
            "781/781 [==============================] - 31s 39ms/step - loss: 0.3169 - accuracy: 0.8928 - val_loss: 0.3748 - val_accuracy: 0.8819\n",
            "Epoch 56/200\n",
            "781/781 [==============================] - 31s 40ms/step - loss: 0.3219 - accuracy: 0.8908 - val_loss: 0.3519 - val_accuracy: 0.8904\n",
            "Epoch 57/200\n",
            "781/781 [==============================] - 30s 39ms/step - loss: 0.3144 - accuracy: 0.8930 - val_loss: 0.3543 - val_accuracy: 0.8883\n",
            "Epoch 58/200\n",
            "781/781 [==============================] - 31s 40ms/step - loss: 0.3127 - accuracy: 0.8951 - val_loss: 0.4217 - val_accuracy: 0.8731\n",
            "Epoch 59/200\n",
            "781/781 [==============================] - 31s 39ms/step - loss: 0.3068 - accuracy: 0.8958 - val_loss: 0.3423 - val_accuracy: 0.8908\n",
            "Epoch 60/200\n",
            "781/781 [==============================] - 30s 38ms/step - loss: 0.3042 - accuracy: 0.8964 - val_loss: 0.3550 - val_accuracy: 0.8880\n",
            "Epoch 61/200\n",
            "781/781 [==============================] - 30s 38ms/step - loss: 0.3038 - accuracy: 0.8965 - val_loss: 0.3888 - val_accuracy: 0.8794\n",
            "Epoch 62/200\n",
            "781/781 [==============================] - 31s 39ms/step - loss: 0.2995 - accuracy: 0.8985 - val_loss: 0.3682 - val_accuracy: 0.8808\n",
            "Epoch 63/200\n",
            "781/781 [==============================] - 30s 38ms/step - loss: 0.2994 - accuracy: 0.8987 - val_loss: 0.3590 - val_accuracy: 0.8880\n",
            "Epoch 64/200\n",
            "781/781 [==============================] - 30s 38ms/step - loss: 0.2994 - accuracy: 0.8989 - val_loss: 0.3549 - val_accuracy: 0.8896\n",
            "Epoch 65/200\n",
            "781/781 [==============================] - 30s 38ms/step - loss: 0.3012 - accuracy: 0.8967 - val_loss: 0.3482 - val_accuracy: 0.8904\n",
            "Epoch 66/200\n",
            "781/781 [==============================] - 31s 39ms/step - loss: 0.2996 - accuracy: 0.8993 - val_loss: 0.3643 - val_accuracy: 0.8836\n",
            "Epoch 67/200\n",
            "781/781 [==============================] - 31s 40ms/step - loss: 0.2970 - accuracy: 0.8966 - val_loss: 0.3531 - val_accuracy: 0.8854\n",
            "Epoch 68/200\n",
            "781/781 [==============================] - 30s 38ms/step - loss: 0.2941 - accuracy: 0.8991 - val_loss: 0.3390 - val_accuracy: 0.8923\n",
            "Epoch 69/200\n",
            "781/781 [==============================] - 31s 39ms/step - loss: 0.2892 - accuracy: 0.9021 - val_loss: 0.3521 - val_accuracy: 0.8931\n",
            "Epoch 70/200\n",
            "781/781 [==============================] - 31s 39ms/step - loss: 0.2929 - accuracy: 0.9012 - val_loss: 0.3880 - val_accuracy: 0.8830\n",
            "Epoch 71/200\n",
            "781/781 [==============================] - 31s 40ms/step - loss: 0.2916 - accuracy: 0.9003 - val_loss: 0.3581 - val_accuracy: 0.8908\n",
            "Epoch 72/200\n",
            "781/781 [==============================] - 30s 38ms/step - loss: 0.2911 - accuracy: 0.9019 - val_loss: 0.3426 - val_accuracy: 0.8963\n",
            "Epoch 73/200\n",
            "781/781 [==============================] - 30s 38ms/step - loss: 0.2845 - accuracy: 0.9020 - val_loss: 0.3714 - val_accuracy: 0.8876\n",
            "Epoch 74/200\n",
            "781/781 [==============================] - 31s 39ms/step - loss: 0.2798 - accuracy: 0.9059 - val_loss: 0.3217 - val_accuracy: 0.8986\n",
            "Epoch 75/200\n",
            "781/781 [==============================] - 30s 38ms/step - loss: 0.2807 - accuracy: 0.9046 - val_loss: 0.3625 - val_accuracy: 0.8906\n",
            "Epoch 76/200\n",
            "781/781 [==============================] - 30s 39ms/step - loss: 0.2859 - accuracy: 0.9016 - val_loss: 0.3807 - val_accuracy: 0.8835\n",
            "Epoch 77/200\n",
            "781/781 [==============================] - 31s 40ms/step - loss: 0.2828 - accuracy: 0.9018 - val_loss: 0.3275 - val_accuracy: 0.8984\n",
            "Epoch 78/200\n",
            "781/781 [==============================] - 31s 40ms/step - loss: 0.2808 - accuracy: 0.9038 - val_loss: 0.3701 - val_accuracy: 0.8876\n",
            "Epoch 79/200\n",
            "781/781 [==============================] - 30s 38ms/step - loss: 0.2779 - accuracy: 0.9056 - val_loss: 0.3754 - val_accuracy: 0.8848\n",
            "Epoch 80/200\n",
            "781/781 [==============================] - 31s 40ms/step - loss: 0.2760 - accuracy: 0.9046 - val_loss: 0.3541 - val_accuracy: 0.8920\n",
            "Epoch 81/200\n",
            "781/781 [==============================] - 31s 40ms/step - loss: 0.2745 - accuracy: 0.9055 - val_loss: 0.3397 - val_accuracy: 0.8958\n",
            "Epoch 82/200\n",
            "781/781 [==============================] - 30s 38ms/step - loss: 0.2743 - accuracy: 0.9073 - val_loss: 0.3502 - val_accuracy: 0.8957\n",
            "Epoch 83/200\n",
            "781/781 [==============================] - 31s 39ms/step - loss: 0.2673 - accuracy: 0.9085 - val_loss: 0.3401 - val_accuracy: 0.8971\n",
            "Epoch 84/200\n",
            "781/781 [==============================] - 30s 39ms/step - loss: 0.2762 - accuracy: 0.9056 - val_loss: 0.3556 - val_accuracy: 0.8950\n",
            "Epoch 85/200\n",
            "781/781 [==============================] - 30s 39ms/step - loss: 0.2724 - accuracy: 0.9065 - val_loss: 0.3309 - val_accuracy: 0.8981\n",
            "Epoch 86/200\n",
            "781/781 [==============================] - 30s 39ms/step - loss: 0.2709 - accuracy: 0.9081 - val_loss: 0.3243 - val_accuracy: 0.8959\n",
            "Epoch 87/200\n",
            "781/781 [==============================] - 31s 40ms/step - loss: 0.2667 - accuracy: 0.9095 - val_loss: 0.3633 - val_accuracy: 0.8873\n",
            "Epoch 88/200\n",
            "781/781 [==============================] - 31s 40ms/step - loss: 0.2624 - accuracy: 0.9102 - val_loss: 0.3226 - val_accuracy: 0.8985\n",
            "Epoch 89/200\n",
            "781/781 [==============================] - 31s 40ms/step - loss: 0.2626 - accuracy: 0.9102 - val_loss: 0.3671 - val_accuracy: 0.8928\n",
            "Epoch 90/200\n",
            "781/781 [==============================] - 31s 39ms/step - loss: 0.2692 - accuracy: 0.9083 - val_loss: 0.3822 - val_accuracy: 0.8858\n",
            "Epoch 91/200\n",
            "781/781 [==============================] - 32s 41ms/step - loss: 0.2651 - accuracy: 0.9095 - val_loss: 0.3424 - val_accuracy: 0.8948\n",
            "Epoch 92/200\n",
            "781/781 [==============================] - 30s 39ms/step - loss: 0.2620 - accuracy: 0.9095 - val_loss: 0.3618 - val_accuracy: 0.8911\n",
            "Epoch 93/200\n",
            "781/781 [==============================] - 31s 40ms/step - loss: 0.2655 - accuracy: 0.9087 - val_loss: 0.3712 - val_accuracy: 0.8861\n",
            "Epoch 94/200\n",
            "781/781 [==============================] - 30s 39ms/step - loss: 0.2551 - accuracy: 0.9121 - val_loss: 0.3365 - val_accuracy: 0.8957\n",
            "Epoch 95/200\n",
            "781/781 [==============================] - 31s 40ms/step - loss: 0.2556 - accuracy: 0.9128 - val_loss: 0.3381 - val_accuracy: 0.8956\n",
            "Epoch 96/200\n",
            "781/781 [==============================] - 31s 40ms/step - loss: 0.2589 - accuracy: 0.9125 - val_loss: 0.3211 - val_accuracy: 0.9030\n",
            "Epoch 97/200\n",
            "781/781 [==============================] - 30s 39ms/step - loss: 0.2567 - accuracy: 0.9121 - val_loss: 0.3993 - val_accuracy: 0.8825\n",
            "Epoch 98/200\n",
            "781/781 [==============================] - 30s 39ms/step - loss: 0.2528 - accuracy: 0.9131 - val_loss: 0.3422 - val_accuracy: 0.8975\n",
            "Epoch 99/200\n",
            "781/781 [==============================] - 31s 39ms/step - loss: 0.2536 - accuracy: 0.9130 - val_loss: 0.3532 - val_accuracy: 0.8907\n",
            "Epoch 100/200\n",
            "781/781 [==============================] - 31s 40ms/step - loss: 0.2566 - accuracy: 0.9123 - val_loss: 0.3406 - val_accuracy: 0.8964\n",
            "Epoch 101/200\n",
            "781/781 [==============================] - 31s 40ms/step - loss: 0.2538 - accuracy: 0.9130 - val_loss: 0.3225 - val_accuracy: 0.9032\n",
            "Epoch 102/200\n",
            "781/781 [==============================] - 30s 39ms/step - loss: 0.2520 - accuracy: 0.9131 - val_loss: 0.3541 - val_accuracy: 0.8936\n",
            "Epoch 103/200\n",
            "781/781 [==============================] - 31s 39ms/step - loss: 0.2431 - accuracy: 0.9175 - val_loss: 0.3341 - val_accuracy: 0.8992\n",
            "Epoch 104/200\n",
            "781/781 [==============================] - 31s 40ms/step - loss: 0.2507 - accuracy: 0.9141 - val_loss: 0.3266 - val_accuracy: 0.8981\n",
            "Epoch 105/200\n",
            "781/781 [==============================] - 31s 40ms/step - loss: 0.2556 - accuracy: 0.9141 - val_loss: 0.4251 - val_accuracy: 0.8724\n",
            "Epoch 106/200\n",
            "781/781 [==============================] - 30s 39ms/step - loss: 0.2439 - accuracy: 0.9167 - val_loss: 0.3887 - val_accuracy: 0.8940\n",
            "Epoch 107/200\n",
            "781/781 [==============================] - 30s 39ms/step - loss: 0.2506 - accuracy: 0.9146 - val_loss: 0.3508 - val_accuracy: 0.8936\n",
            "Epoch 108/200\n",
            "781/781 [==============================] - 31s 40ms/step - loss: 0.2438 - accuracy: 0.9166 - val_loss: 0.3567 - val_accuracy: 0.8993\n",
            "Epoch 109/200\n",
            "781/781 [==============================] - 30s 39ms/step - loss: 0.2473 - accuracy: 0.9150 - val_loss: 0.3545 - val_accuracy: 0.8965\n",
            "Epoch 110/200\n",
            "781/781 [==============================] - 30s 39ms/step - loss: 0.2456 - accuracy: 0.9149 - val_loss: 0.3261 - val_accuracy: 0.9011\n",
            "Epoch 111/200\n",
            "781/781 [==============================] - 31s 39ms/step - loss: 0.2487 - accuracy: 0.9148 - val_loss: 0.3587 - val_accuracy: 0.8912\n",
            "Epoch 112/200\n",
            "781/781 [==============================] - 30s 39ms/step - loss: 0.2390 - accuracy: 0.9178 - val_loss: 0.3428 - val_accuracy: 0.8959\n",
            "Epoch 113/200\n",
            "781/781 [==============================] - 31s 39ms/step - loss: 0.2386 - accuracy: 0.9174 - val_loss: 0.3331 - val_accuracy: 0.9013\n",
            "Epoch 114/200\n",
            "781/781 [==============================] - 31s 40ms/step - loss: 0.2428 - accuracy: 0.9165 - val_loss: 0.3561 - val_accuracy: 0.8938\n",
            "Epoch 115/200\n",
            "781/781 [==============================] - 31s 39ms/step - loss: 0.2382 - accuracy: 0.9186 - val_loss: 0.3299 - val_accuracy: 0.9006\n",
            "Epoch 116/200\n",
            "781/781 [==============================] - 31s 39ms/step - loss: 0.2383 - accuracy: 0.9181 - val_loss: 0.3413 - val_accuracy: 0.8978\n",
            "Epoch 117/200\n",
            "781/781 [==============================] - 31s 40ms/step - loss: 0.2351 - accuracy: 0.9199 - val_loss: 0.3275 - val_accuracy: 0.9031\n",
            "Epoch 118/200\n",
            "781/781 [==============================] - 30s 39ms/step - loss: 0.2395 - accuracy: 0.9163 - val_loss: 0.3396 - val_accuracy: 0.9020\n",
            "Epoch 119/200\n",
            "781/781 [==============================] - 31s 40ms/step - loss: 0.2439 - accuracy: 0.9159 - val_loss: 0.3696 - val_accuracy: 0.8915\n",
            "Epoch 120/200\n",
            "781/781 [==============================] - 31s 40ms/step - loss: 0.2399 - accuracy: 0.9178 - val_loss: 0.3387 - val_accuracy: 0.8985\n",
            "Epoch 121/200\n",
            "781/781 [==============================] - 30s 38ms/step - loss: 0.2363 - accuracy: 0.9188 - val_loss: 0.3338 - val_accuracy: 0.9047\n",
            "Epoch 122/200\n",
            "781/781 [==============================] - 31s 40ms/step - loss: 0.2331 - accuracy: 0.9188 - val_loss: 0.3281 - val_accuracy: 0.9005\n",
            "Epoch 123/200\n",
            "781/781 [==============================] - 30s 39ms/step - loss: 0.2359 - accuracy: 0.9190 - val_loss: 0.3128 - val_accuracy: 0.9055\n",
            "Epoch 124/200\n",
            "781/781 [==============================] - 30s 39ms/step - loss: 0.2384 - accuracy: 0.9187 - val_loss: 0.3625 - val_accuracy: 0.8918\n",
            "Epoch 125/200\n",
            "781/781 [==============================] - 31s 40ms/step - loss: 0.2348 - accuracy: 0.9191 - val_loss: 0.3192 - val_accuracy: 0.9052\n",
            "Epoch 126/200\n",
            "781/781 [==============================] - 30s 39ms/step - loss: 0.2309 - accuracy: 0.9199 - val_loss: 0.3513 - val_accuracy: 0.8992\n",
            "Epoch 127/200\n",
            "781/781 [==============================] - 31s 40ms/step - loss: 0.2322 - accuracy: 0.9212 - val_loss: 0.3520 - val_accuracy: 0.9012\n",
            "Epoch 128/200\n",
            "781/781 [==============================] - 31s 40ms/step - loss: 0.2318 - accuracy: 0.9215 - val_loss: 0.3243 - val_accuracy: 0.9002\n",
            "Epoch 129/200\n",
            "781/781 [==============================] - 30s 39ms/step - loss: 0.2355 - accuracy: 0.9198 - val_loss: 0.3413 - val_accuracy: 0.8989\n",
            "Epoch 130/200\n",
            "781/781 [==============================] - 30s 39ms/step - loss: 0.2340 - accuracy: 0.9195 - val_loss: 0.3316 - val_accuracy: 0.9028\n",
            "Epoch 131/200\n",
            "781/781 [==============================] - 31s 40ms/step - loss: 0.2295 - accuracy: 0.9207 - val_loss: 0.3454 - val_accuracy: 0.9023\n",
            "Epoch 132/200\n",
            "781/781 [==============================] - 31s 40ms/step - loss: 0.2269 - accuracy: 0.9233 - val_loss: 0.3606 - val_accuracy: 0.8994\n",
            "Epoch 133/200\n",
            "781/781 [==============================] - 32s 40ms/step - loss: 0.2261 - accuracy: 0.9219 - val_loss: 0.3377 - val_accuracy: 0.9061\n",
            "Epoch 134/200\n",
            "781/781 [==============================] - 30s 39ms/step - loss: 0.2287 - accuracy: 0.9229 - val_loss: 0.3373 - val_accuracy: 0.9032\n",
            "Epoch 135/200\n",
            "781/781 [==============================] - 31s 40ms/step - loss: 0.2241 - accuracy: 0.9241 - val_loss: 0.3225 - val_accuracy: 0.9061\n",
            "Epoch 136/200\n",
            "781/781 [==============================] - 33s 42ms/step - loss: 0.2242 - accuracy: 0.9226 - val_loss: 0.3372 - val_accuracy: 0.9001\n",
            "Epoch 137/200\n",
            "781/781 [==============================] - 30s 38ms/step - loss: 0.2217 - accuracy: 0.9231 - val_loss: 0.3241 - val_accuracy: 0.9072\n",
            "Epoch 138/200\n",
            "781/781 [==============================] - 32s 41ms/step - loss: 0.2214 - accuracy: 0.9236 - val_loss: 0.3732 - val_accuracy: 0.8980\n",
            "Epoch 139/200\n",
            "781/781 [==============================] - 31s 40ms/step - loss: 0.2226 - accuracy: 0.9238 - val_loss: 0.3627 - val_accuracy: 0.8918\n",
            "Epoch 140/200\n",
            "781/781 [==============================] - 30s 39ms/step - loss: 0.2214 - accuracy: 0.9229 - val_loss: 0.3182 - val_accuracy: 0.9065\n",
            "Epoch 141/200\n",
            "781/781 [==============================] - 31s 40ms/step - loss: 0.2256 - accuracy: 0.9239 - val_loss: 0.3584 - val_accuracy: 0.8932\n",
            "Epoch 142/200\n",
            "781/781 [==============================] - 31s 40ms/step - loss: 0.2219 - accuracy: 0.9232 - val_loss: 0.3367 - val_accuracy: 0.9031\n",
            "Epoch 143/200\n",
            "781/781 [==============================] - 30s 38ms/step - loss: 0.2219 - accuracy: 0.9245 - val_loss: 0.3248 - val_accuracy: 0.9071\n",
            "Epoch 144/200\n",
            "781/781 [==============================] - 31s 40ms/step - loss: 0.2244 - accuracy: 0.9229 - val_loss: 0.3540 - val_accuracy: 0.8986\n",
            "Epoch 145/200\n",
            "781/781 [==============================] - 32s 41ms/step - loss: 0.2174 - accuracy: 0.9253 - val_loss: 0.3495 - val_accuracy: 0.9007\n",
            "Epoch 146/200\n",
            "781/781 [==============================] - 31s 40ms/step - loss: 0.2182 - accuracy: 0.9249 - val_loss: 0.3369 - val_accuracy: 0.9062\n",
            "Epoch 147/200\n",
            "781/781 [==============================] - 31s 39ms/step - loss: 0.2182 - accuracy: 0.9240 - val_loss: 0.3491 - val_accuracy: 0.9021\n",
            "Epoch 148/200\n",
            "781/781 [==============================] - 30s 39ms/step - loss: 0.2210 - accuracy: 0.9237 - val_loss: 0.3283 - val_accuracy: 0.9039\n",
            "Epoch 149/200\n",
            "781/781 [==============================] - 31s 40ms/step - loss: 0.2197 - accuracy: 0.9242 - val_loss: 0.3155 - val_accuracy: 0.9080\n",
            "Epoch 150/200\n",
            "781/781 [==============================] - 30s 38ms/step - loss: 0.2159 - accuracy: 0.9272 - val_loss: 0.3467 - val_accuracy: 0.8966\n",
            "Epoch 151/200\n",
            "781/781 [==============================] - 31s 40ms/step - loss: 0.2180 - accuracy: 0.9251 - val_loss: 0.3629 - val_accuracy: 0.9002\n",
            "Epoch 152/200\n",
            "781/781 [==============================] - 31s 40ms/step - loss: 0.2158 - accuracy: 0.9260 - val_loss: 0.3548 - val_accuracy: 0.9034\n",
            "Epoch 153/200\n",
            "781/781 [==============================] - 30s 39ms/step - loss: 0.2173 - accuracy: 0.9264 - val_loss: 0.3541 - val_accuracy: 0.8963\n",
            "Epoch 154/200\n",
            "781/781 [==============================] - 31s 40ms/step - loss: 0.2165 - accuracy: 0.9266 - val_loss: 0.3298 - val_accuracy: 0.9031\n",
            "Epoch 155/200\n",
            "781/781 [==============================] - 30s 39ms/step - loss: 0.2162 - accuracy: 0.9273 - val_loss: 0.3494 - val_accuracy: 0.9040\n",
            "Epoch 156/200\n",
            "781/781 [==============================] - 31s 40ms/step - loss: 0.2135 - accuracy: 0.9263 - val_loss: 0.3412 - val_accuracy: 0.9032\n",
            "Epoch 157/200\n",
            "781/781 [==============================] - 31s 40ms/step - loss: 0.2118 - accuracy: 0.9261 - val_loss: 0.3470 - val_accuracy: 0.9031\n",
            "Epoch 158/200\n",
            "781/781 [==============================] - 30s 39ms/step - loss: 0.2136 - accuracy: 0.9273 - val_loss: 0.3452 - val_accuracy: 0.9027\n",
            "Epoch 159/200\n",
            "781/781 [==============================] - 30s 39ms/step - loss: 0.2137 - accuracy: 0.9266 - val_loss: 0.3448 - val_accuracy: 0.9023\n",
            "Epoch 160/200\n",
            "781/781 [==============================] - 30s 39ms/step - loss: 0.2099 - accuracy: 0.9282 - val_loss: 0.3670 - val_accuracy: 0.9031\n",
            "Epoch 161/200\n",
            "781/781 [==============================] - 31s 40ms/step - loss: 0.2102 - accuracy: 0.9271 - val_loss: 0.3498 - val_accuracy: 0.9061\n",
            "Epoch 162/200\n",
            "781/781 [==============================] - 31s 40ms/step - loss: 0.2096 - accuracy: 0.9282 - val_loss: 0.3798 - val_accuracy: 0.8983\n",
            "Epoch 163/200\n",
            "781/781 [==============================] - 30s 39ms/step - loss: 0.2138 - accuracy: 0.9268 - val_loss: 0.3720 - val_accuracy: 0.8983\n",
            "Epoch 164/200\n",
            "781/781 [==============================] - 30s 39ms/step - loss: 0.2108 - accuracy: 0.9270 - val_loss: 0.3159 - val_accuracy: 0.9099\n",
            "Epoch 165/200\n",
            "781/781 [==============================] - 31s 40ms/step - loss: 0.2100 - accuracy: 0.9286 - val_loss: 0.3417 - val_accuracy: 0.9043\n",
            "Epoch 166/200\n",
            "781/781 [==============================] - 30s 39ms/step - loss: 0.2061 - accuracy: 0.9286 - val_loss: 0.3595 - val_accuracy: 0.8985\n",
            "Epoch 167/200\n",
            "781/781 [==============================] - 31s 40ms/step - loss: 0.2124 - accuracy: 0.9279 - val_loss: 0.3392 - val_accuracy: 0.9017\n",
            "Epoch 168/200\n",
            "781/781 [==============================] - 31s 40ms/step - loss: 0.2074 - accuracy: 0.9278 - val_loss: 0.3200 - val_accuracy: 0.9094\n",
            "Epoch 169/200\n",
            "781/781 [==============================] - 31s 40ms/step - loss: 0.2122 - accuracy: 0.9277 - val_loss: 0.3572 - val_accuracy: 0.9019\n",
            "Epoch 170/200\n",
            "781/781 [==============================] - 30s 38ms/step - loss: 0.2043 - accuracy: 0.9307 - val_loss: 0.3142 - val_accuracy: 0.9101\n",
            "Epoch 171/200\n",
            "781/781 [==============================] - 31s 39ms/step - loss: 0.2083 - accuracy: 0.9281 - val_loss: 0.3684 - val_accuracy: 0.8949\n",
            "Epoch 172/200\n",
            "781/781 [==============================] - 32s 40ms/step - loss: 0.2108 - accuracy: 0.9284 - val_loss: 0.3247 - val_accuracy: 0.9077\n",
            "Epoch 173/200\n",
            "781/781 [==============================] - 32s 41ms/step - loss: 0.2047 - accuracy: 0.9298 - val_loss: 0.3533 - val_accuracy: 0.9012\n",
            "Epoch 174/200\n",
            "781/781 [==============================] - 30s 39ms/step - loss: 0.2050 - accuracy: 0.9304 - val_loss: 0.3289 - val_accuracy: 0.9049\n",
            "Epoch 175/200\n",
            "781/781 [==============================] - 31s 39ms/step - loss: 0.1994 - accuracy: 0.9308 - val_loss: 0.3374 - val_accuracy: 0.9073\n",
            "Epoch 176/200\n",
            "781/781 [==============================] - 31s 40ms/step - loss: 0.2041 - accuracy: 0.9292 - val_loss: 0.3299 - val_accuracy: 0.9065\n",
            "Epoch 177/200\n",
            "781/781 [==============================] - 30s 39ms/step - loss: 0.2069 - accuracy: 0.9293 - val_loss: 0.3392 - val_accuracy: 0.9026\n",
            "Epoch 178/200\n",
            "781/781 [==============================] - 31s 40ms/step - loss: 0.1994 - accuracy: 0.9310 - val_loss: 0.3405 - val_accuracy: 0.9083\n",
            "Epoch 179/200\n",
            "781/781 [==============================] - 32s 40ms/step - loss: 0.1991 - accuracy: 0.9315 - val_loss: 0.3398 - val_accuracy: 0.9061\n",
            "Epoch 180/200\n",
            "781/781 [==============================] - 32s 40ms/step - loss: 0.2019 - accuracy: 0.9314 - val_loss: 0.3145 - val_accuracy: 0.9069\n",
            "Epoch 181/200\n",
            "781/781 [==============================] - 31s 40ms/step - loss: 0.1969 - accuracy: 0.9328 - val_loss: 0.3179 - val_accuracy: 0.9093\n",
            "Epoch 182/200\n",
            "781/781 [==============================] - 30s 38ms/step - loss: 0.1975 - accuracy: 0.9323 - val_loss: 0.3318 - val_accuracy: 0.9069\n",
            "Epoch 183/200\n",
            "781/781 [==============================] - 30s 39ms/step - loss: 0.2036 - accuracy: 0.9293 - val_loss: 0.3235 - val_accuracy: 0.9104\n",
            "Epoch 184/200\n",
            "781/781 [==============================] - 30s 39ms/step - loss: 0.2034 - accuracy: 0.9310 - val_loss: 0.3269 - val_accuracy: 0.9060\n",
            "Epoch 185/200\n",
            "781/781 [==============================] - 31s 40ms/step - loss: 0.2035 - accuracy: 0.9308 - val_loss: 0.3488 - val_accuracy: 0.9018\n",
            "Epoch 186/200\n",
            "781/781 [==============================] - 31s 40ms/step - loss: 0.2032 - accuracy: 0.9313 - val_loss: 0.3310 - val_accuracy: 0.9079\n",
            "Epoch 187/200\n",
            "781/781 [==============================] - 30s 39ms/step - loss: 0.1995 - accuracy: 0.9312 - val_loss: 0.3472 - val_accuracy: 0.9057\n",
            "Epoch 188/200\n",
            "781/781 [==============================] - 31s 40ms/step - loss: 0.2037 - accuracy: 0.9300 - val_loss: 0.3413 - val_accuracy: 0.9038\n",
            "Epoch 189/200\n",
            "781/781 [==============================] - 30s 39ms/step - loss: 0.1966 - accuracy: 0.9319 - val_loss: 0.3373 - val_accuracy: 0.9042\n",
            "Epoch 190/200\n",
            "781/781 [==============================] - 31s 40ms/step - loss: 0.2015 - accuracy: 0.9310 - val_loss: 0.3387 - val_accuracy: 0.9058\n",
            "Epoch 191/200\n",
            "781/781 [==============================] - 31s 40ms/step - loss: 0.1954 - accuracy: 0.9333 - val_loss: 0.3477 - val_accuracy: 0.9074\n",
            "Epoch 192/200\n",
            "781/781 [==============================] - 32s 41ms/step - loss: 0.1959 - accuracy: 0.9324 - val_loss: 0.3534 - val_accuracy: 0.8985\n",
            "Epoch 193/200\n",
            "781/781 [==============================] - 30s 39ms/step - loss: 0.1953 - accuracy: 0.9329 - val_loss: 0.3349 - val_accuracy: 0.9114\n",
            "Epoch 194/200\n",
            "781/781 [==============================] - 31s 40ms/step - loss: 0.1951 - accuracy: 0.9327 - val_loss: 0.3488 - val_accuracy: 0.9004\n",
            "Epoch 195/200\n",
            "781/781 [==============================] - 31s 40ms/step - loss: 0.1955 - accuracy: 0.9337 - val_loss: 0.3540 - val_accuracy: 0.9049\n",
            "Epoch 196/200\n",
            "781/781 [==============================] - 31s 39ms/step - loss: 0.1927 - accuracy: 0.9347 - val_loss: 0.3306 - val_accuracy: 0.9107\n",
            "Epoch 197/200\n",
            "781/781 [==============================] - 30s 39ms/step - loss: 0.1920 - accuracy: 0.9354 - val_loss: 0.3460 - val_accuracy: 0.9076\n",
            "Epoch 198/200\n",
            "781/781 [==============================] - 31s 40ms/step - loss: 0.1972 - accuracy: 0.9319 - val_loss: 0.3511 - val_accuracy: 0.9025\n",
            "Epoch 199/200\n",
            "781/781 [==============================] - 30s 39ms/step - loss: 0.1937 - accuracy: 0.9335 - val_loss: 0.3269 - val_accuracy: 0.9117\n",
            "Epoch 200/200\n",
            "781/781 [==============================] - 31s 40ms/step - loss: 0.1949 - accuracy: 0.9329 - val_loss: 0.3428 - val_accuracy: 0.9136\n"
          ]
        }
      ]
    },
    {
      "cell_type": "code",
      "source": [
        "p_test = model.predict(x_test).argmax(axis=1)"
      ],
      "metadata": {
        "id": "rIpc9GLuOjKo",
        "colab": {
          "base_uri": "https://localhost:8080/"
        },
        "outputId": "5cf1e604-d34f-4eb0-d902-27e20a9e5e0c"
      },
      "execution_count": 40,
      "outputs": [
        {
          "output_type": "stream",
          "name": "stdout",
          "text": [
            "313/313 [==============================] - 1s 3ms/step\n"
          ]
        }
      ]
    },
    {
      "cell_type": "code",
      "source": [
        "plt.plot(r.history[\"loss\"], label = \"loss\")\n",
        "plt.plot(r.history[\"val_loss\"], label = \"val_loss\")\n",
        "plt.legend()"
      ],
      "metadata": {
        "id": "nKtNDdcYOvNG",
        "colab": {
          "base_uri": "https://localhost:8080/",
          "height": 282
        },
        "outputId": "95fa7d92-f36f-4796-b676-fdaa92ba1017"
      },
      "execution_count": 41,
      "outputs": [
        {
          "output_type": "execute_result",
          "data": {
            "text/plain": [
              "<matplotlib.legend.Legend at 0x7fd8d05b3490>"
            ]
          },
          "metadata": {},
          "execution_count": 41
        },
        {
          "output_type": "display_data",
          "data": {
            "text/plain": [
              "<Figure size 432x288 with 1 Axes>"
            ],
            "image/png": "[encoded data removed]"
          },
          "metadata": {
            "needs_background": "light"
          }
        }
      ]
    },
    {
      "cell_type": "code",
      "source": [
        "plt.plot(r.history[\"accuracy\"], label = \"accuracy\")\n",
        "plt.plot(r.history[\"val_accuracy\"], label = \"val_accuracy\")\n",
        "plt.legend()"
      ],
      "metadata": {
        "id": "v1WbLwhUPLsV",
        "colab": {
          "base_uri": "https://localhost:8080/",
          "height": 282
        },
        "outputId": "6bc4bfa4-a370-4cf0-ee5c-ccbd413a724d"
      },
      "execution_count": 42,
      "outputs": [
        {
          "output_type": "execute_result",
          "data": {
            "text/plain": [
              "<matplotlib.legend.Legend at 0x7fd8d05b3d10>"
            ]
          },
          "metadata": {},
          "execution_count": 42
        },
        {
          "output_type": "display_data",
          "data": {
            "text/plain": [
              "<Figure size 432x288 with 1 Axes>"
            ],
            "image/png": "[encoded data removed]"
          },
          "metadata": {
            "needs_background": "light"
          }
        }
      ]
    },
    {
      "cell_type": "code",
      "source": [
        "label = '''\n",
        "airplane\n",
        "automobile\n",
        "bird\n",
        "cat\n",
        "deer\n",
        "dog\n",
        "frog\n",
        "horse\n",
        "ship\n",
        "truck'''.split()\n"
      ],
      "metadata": {
        "id": "9QJaGop_RnWn"
      },
      "execution_count": 43,
      "outputs": []
    },
    {
      "cell_type": "code",
      "source": [
        "misclass = np.where(p_test != y_test)[0]\n",
        "i = np.random.choice(misclass)\n",
        "plt.imshow(x_test[i], cmap = \"gray\")\n",
        "plt.title(\"True label : %s,  Predicted label : %s\" % (label[y_test[i]], label[p_test[i]]))"
      ],
      "metadata": {
        "id": "9JDj6dX6RIbb",
        "colab": {
          "base_uri": "https://localhost:8080/",
          "height": 298
        },
        "outputId": "3b2fa102-c703-4d4a-85dc-1f0a6c364688"
      },
      "execution_count": 44,
      "outputs": [
        {
          "output_type": "execute_result",
          "data": {
            "text/plain": [
              "Text(0.5, 1.0, 'True label : bird,  Predicted label : cat')"
            ]
          },
          "metadata": {},
          "execution_count": 44
        },
        {
          "output_type": "display_data",
          "data": {
            "text/plain": [
              "<Figure size 432x288 with 1 Axes>"
            ],
            "image/png": "[encoded data removed]"
          },
          "metadata": {
            "needs_background": "light"
          }
        }
      ]
    }
  ]
}